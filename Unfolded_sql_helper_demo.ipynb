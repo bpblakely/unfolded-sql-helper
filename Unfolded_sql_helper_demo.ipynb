{
 "cells": [
  {
   "cell_type": "code",
   "execution_count": 2,
   "metadata": {},
   "outputs": [],
   "source": [
    "import pandas as pd\n",
    "import datetime\n",
    "import unfolded_query_helper"
   ]
  },
  {
   "cell_type": "markdown",
   "metadata": {},
   "source": [
    "# Get you access key at https://covid.rilldata.com/accesstoken\n",
    "\n",
    "Note: you have to get your gmail account approved to access the SG data from this database, to get approved message Mike Driscoll (Rill Data) on Slack"
   ]
  },
  {
   "cell_type": "code",
   "execution_count": 3,
   "metadata": {},
   "outputs": [],
   "source": [
    "token = \"ENTER YOUR TOKEN\""
   ]
  },
  {
   "cell_type": "markdown",
   "metadata": {},
   "source": [
    "All query functions return a pandas dataframe\n",
    "\n",
    "Initialize an instance of the class in order to get started  "
   ]
  },
  {
   "cell_type": "code",
   "execution_count": 4,
   "metadata": {},
   "outputs": [],
   "source": [
    "db = unfolded_query_helper.session(token)"
   ]
  },
  {
   "cell_type": "markdown",
   "metadata": {},
   "source": [
    "## Query by date range"
   ]
  },
  {
   "cell_type": "code",
   "execution_count": 6,
   "metadata": {},
   "outputs": [
    {
     "name": "stdout",
     "output_type": "stream",
     "text": [
      "Status Code: 200  (200 is what you want)\n",
      "     County_State  GEOID                    __time  age_50_to_69  \\\n",
      "0    Clermont, OH  39025 2020-04-19 00:00:00+00:00             0   \n",
      "1        Lake, OH  39085 2020-04-19 00:00:00+00:00             0   \n",
      "2       Lucas, OH  39095 2020-04-19 00:00:00+00:00             0   \n",
      "3        Erie, OH  39043 2020-04-19 00:00:00+00:00             0   \n",
      "4  Montgomery, OH  39113 2020-04-19 00:00:00+00:00             0   \n",
      "\n",
      "   age_70_and_over  age_under_50  at_home_hour00  at_home_hour01  \\\n",
      "0                0             0               0               0   \n",
      "1                0             0               0               0   \n",
      "2                0             0               0               0   \n",
      "3                0             0               0               0   \n",
      "4                0             0               0               0   \n",
      "\n",
      "   at_home_hour02  at_home_hour03  ...  \\\n",
      "0               0               0  ...   \n",
      "1               0               0  ...   \n",
      "2               0               0  ...   \n",
      "3               0               0  ...   \n",
      "4               0               0  ...   \n",
      "\n",
      "   visits_by_day_total_Mining_Quarrying_and_Oil_and_Gas_Extraction  \\\n",
      "0                                                  0                 \n",
      "1                                                  0                 \n",
      "2                                                  0                 \n",
      "3                                                  0                 \n",
      "4                                                  0                 \n",
      "\n",
      "   visits_by_day_total_Other_Services  \\\n",
      "0                                   0   \n",
      "1                                   0   \n",
      "2                                   0   \n",
      "3                                   0   \n",
      "4                                   0   \n",
      "\n",
      "   visits_by_day_total_Professional_Scientific_and_Technical_Services  \\\n",
      "0                                                  0                    \n",
      "1                                                  0                    \n",
      "2                                                  0                    \n",
      "3                                                  0                    \n",
      "4                                                  0                    \n",
      "\n",
      "   visits_by_day_total_Public_Administration  \\\n",
      "0                                          0   \n",
      "1                                          0   \n",
      "2                                          0   \n",
      "3                                          0   \n",
      "4                                          0   \n",
      "\n",
      "   visits_by_day_total_Real_Estate_and_Rental_and_Leasing  \\\n",
      "0                                                  0        \n",
      "1                                                  0        \n",
      "2                                                  0        \n",
      "3                                                  0        \n",
      "4                                                  0        \n",
      "\n",
      "   visits_by_day_total_Retail_Trade  \\\n",
      "0                                 0   \n",
      "1                                 0   \n",
      "2                                 0   \n",
      "3                                 0   \n",
      "4                                 0   \n",
      "\n",
      "   visits_by_day_total_Transportation_and_Warehousing  \\\n",
      "0                                                  0    \n",
      "1                                                  0    \n",
      "2                                                  0    \n",
      "3                                                  0    \n",
      "4                                                  0    \n",
      "\n",
      "   visits_by_day_total_Utilities  visits_by_day_total_Wholesale_Trade  \\\n",
      "0                              0                                    0   \n",
      "1                              0                                    0   \n",
      "2                              0                                    0   \n",
      "3                              0                                    0   \n",
      "4                              0                                    0   \n",
      "\n",
      "   visits_by_day_total_na_poi  \n",
      "0                           0  \n",
      "1                           0  \n",
      "2                           0  \n",
      "3                           0  \n",
      "4                           0  \n",
      "\n",
      "[5 rows x 189 columns]\n"
     ]
    }
   ],
   "source": [
    "print(db.query_time(\"2020-04-19\",\"2020-04-26\",state=\"ohio\",limit=5))"
   ]
  },
  {
   "cell_type": "markdown",
   "metadata": {},
   "source": [
    "\n",
    "**Query by date range and county, state** (or if you want to get a given county from all states use: county = 'countyName%')\n"
   ]
  },
  {
   "cell_type": "code",
   "execution_count": 7,
   "metadata": {},
   "outputs": [
    {
     "name": "stdout",
     "output_type": "stream",
     "text": [
      "Status Code: 200  (200 is what you want)\n",
      "  County_State  GEOID                    __time  age_50_to_69  \\\n",
      "0    Lucas, OH  39095 2020-04-19 00:00:00+00:00             0   \n",
      "1    Lucas, OH  39095 2020-04-19 00:00:00+00:00            33   \n",
      "2    Lucas, OH  39095 2020-04-19 00:00:00+00:00            39   \n",
      "3    Lucas, OH  39095 2020-04-19 00:00:00+00:00            49   \n",
      "4    Lucas, OH  39095 2020-04-19 00:00:00+00:00            54   \n",
      "\n",
      "   age_70_and_over  age_under_50  at_home_hour00  at_home_hour01  \\\n",
      "0                0             0               0               0   \n",
      "1               31           251               4               3   \n",
      "2               15           177              13              13   \n",
      "3                8           257               4               4   \n",
      "4               19           149               5               3   \n",
      "\n",
      "   at_home_hour02  at_home_hour03  ...  \\\n",
      "0               0               0  ...   \n",
      "1               4               1  ...   \n",
      "2              13              13  ...   \n",
      "3               5               6  ...   \n",
      "4               4               3  ...   \n",
      "\n",
      "   visits_by_day_total_Mining_Quarrying_and_Oil_and_Gas_Extraction  \\\n",
      "0                                                  0                 \n",
      "1                                                  0                 \n",
      "2                                                  0                 \n",
      "3                                                  0                 \n",
      "4                                                  0                 \n",
      "\n",
      "   visits_by_day_total_Other_Services  \\\n",
      "0                                   0   \n",
      "1                                   0   \n",
      "2                                   0   \n",
      "3                                   0   \n",
      "4                                   0   \n",
      "\n",
      "   visits_by_day_total_Professional_Scientific_and_Technical_Services  \\\n",
      "0                                                  0                    \n",
      "1                                                  0                    \n",
      "2                                                  0                    \n",
      "3                                                  0                    \n",
      "4                                                  0                    \n",
      "\n",
      "   visits_by_day_total_Public_Administration  \\\n",
      "0                                          0   \n",
      "1                                          3   \n",
      "2                                          0   \n",
      "3                                          0   \n",
      "4                                          0   \n",
      "\n",
      "   visits_by_day_total_Real_Estate_and_Rental_and_Leasing  \\\n",
      "0                                                  0        \n",
      "1                                                  0        \n",
      "2                                                  0        \n",
      "3                                                  0        \n",
      "4                                                  0        \n",
      "\n",
      "   visits_by_day_total_Retail_Trade  \\\n",
      "0                                 0   \n",
      "1                                 0   \n",
      "2                                 0   \n",
      "3                                 0   \n",
      "4                                 0   \n",
      "\n",
      "   visits_by_day_total_Transportation_and_Warehousing  \\\n",
      "0                                                  0    \n",
      "1                                                  0    \n",
      "2                                                  0    \n",
      "3                                                  0    \n",
      "4                                                  0    \n",
      "\n",
      "   visits_by_day_total_Utilities  visits_by_day_total_Wholesale_Trade  \\\n",
      "0                              0                                    0   \n",
      "1                              0                                    0   \n",
      "2                              0                                    0   \n",
      "3                              0                                    0   \n",
      "4                              0                                    0   \n",
      "\n",
      "   visits_by_day_total_na_poi  \n",
      "0                           0  \n",
      "1                           0  \n",
      "2                           0  \n",
      "3                           0  \n",
      "4                           0  \n",
      "\n",
      "[5 rows x 189 columns]\n"
     ]
    }
   ],
   "source": [
    "print(db.query_time(\"2020-04-19\",\"2020-04-26\",county='Lucas, OH').head(5))"
   ]
  },
  {
   "cell_type": "markdown",
   "metadata": {},
   "source": [
    "**Query by range, but only return selected variables**\n",
    "\n",
    "Note: the temperature data is pretty inconsistent and is in Kelvin"
   ]
  },
  {
   "cell_type": "code",
   "execution_count": 8,
   "metadata": {},
   "outputs": [
    {
     "name": "stdout",
     "output_type": "stream",
     "text": [
      "Status Code: 200  (200 is what you want)\n",
      "  County_State                    __time     cases  device_count  \\\n",
      "0    Lucas, OH 2020-04-19 00:00:00+00:00  0.000000             0   \n",
      "1    Lucas, OH 2020-04-19 00:00:00+00:00  0.573449             7   \n",
      "2    Lucas, OH 2020-04-19 00:00:00+00:00  0.420529            29   \n",
      "3    Lucas, OH 2020-04-19 00:00:00+00:00  0.571628            13   \n",
      "4    Lucas, OH 2020-04-19 00:00:00+00:00  0.404145            14   \n",
      "\n",
      "   max_temperature  \n",
      "0              0.0  \n",
      "1            280.8  \n",
      "2            280.8  \n",
      "3            280.8  \n",
      "4            280.8  \n"
     ]
    }
   ],
   "source": [
    "print(db.query_time(\"2020-04-19\",\"2020-04-26\", \n",
    "                    variables= \"County_State, __time, cases, device_count, max_temperature\",\n",
    "                    county='Lucas, OH').head(5))"
   ]
  },
  {
   "cell_type": "markdown",
   "metadata": {},
   "source": [
    "**Query by only county and state** (no time range)"
   ]
  },
  {
   "cell_type": "code",
   "execution_count": 13,
   "metadata": {},
   "outputs": [
    {
     "name": "stdout",
     "output_type": "stream",
     "text": [
      "Status Code: 200  (200 is what you want)\n",
      "      County_State                    __time  cases\n",
      "0  Los Angeles, CA 2020-01-01 00:00:00+00:00      0\n",
      "1  Los Angeles, CA 2020-01-01 00:00:00+00:00      0\n",
      "2  Los Angeles, CA 2020-01-01 00:00:00+00:00      0\n",
      "3  Los Angeles, CA 2020-01-01 00:00:00+00:00      0\n",
      "4  Los Angeles, CA 2020-01-01 00:00:00+00:00      0\n",
      "Status Code: 200  (200 is what you want)\n",
      "      County_State                    __time  cases\n",
      "0  Los Angeles, CA 2020-01-01 00:00:00+00:00      0\n",
      "1  Los Angeles, CA 2020-01-01 00:00:00+00:00      0\n",
      "2  Los Angeles, CA 2020-01-01 00:00:00+00:00      0\n",
      "3  Los Angeles, CA 2020-01-01 00:00:00+00:00      0\n",
      "4  Los Angeles, CA 2020-01-01 00:00:00+00:00      0\n"
     ]
    }
   ],
   "source": [
    "print(db.query_county_state('Los Angeles','CA',variables= \"County_State, __time, cases\",limit=5))\n",
    "# or use full state name and let the code change it to a 2 letter abbreviation for you\n",
    "print(db.query_county_state('Los Angeles','California',variables= \"County_State, __time, cases\",limit=5))"
   ]
  },
  {
   "cell_type": "markdown",
   "metadata": {},
   "source": [
    "## Query by any condition \n",
    "\n",
    "This is just building the WHERE statement in an SQL query\n",
    "\n",
    "You can either build the WHERE statement manually or use the where_builder to help build it (only helps you avoid triple nested quotes)"
   ]
  },
  {
   "cell_type": "code",
   "execution_count": 14,
   "metadata": {},
   "outputs": [
    {
     "name": "stdout",
     "output_type": "stream",
     "text": [
      "Status Code: 200  (200 is what you want)\n",
      "  County_State                    __time       cases  device_count  \\\n",
      "0     Cass, ND 2020-05-03 00:00:00+00:00  128.655580          2578   \n",
      "1     Cass, ND 2020-04-28 00:00:00+00:00  100.372620          2715   \n",
      "2     Cass, ND 2020-04-29 00:00:00+00:00  104.625694          2654   \n",
      "3     Cass, ND 2020-05-02 00:00:00+00:00  121.638000          2756   \n",
      "4     Cass, ND 2020-04-30 00:00:00+00:00  109.091420          2592   \n",
      "\n",
      "   max_temperature  \n",
      "0            286.1  \n",
      "1            290.1  \n",
      "2            288.0  \n",
      "3            294.6  \n",
      "4            291.2  \n"
     ]
    }
   ],
   "source": [
    "print(db.query_any_condition('''\"total_pop\" > 10000 AND \"cases\" > 100''',\n",
    "                             variables= \"County_State, __time, cases, device_count, max_temperature\",\n",
    "                             limit = 5))"
   ]
  },
  {
   "cell_type": "code",
   "execution_count": 17,
   "metadata": {},
   "outputs": [
    {
     "name": "stdout",
     "output_type": "stream",
     "text": [
      "where builder return: \"total_pop\" > 10000 AND \"cases\" > 100\n",
      "\n",
      "Status Code: 200  (200 is what you want)\n",
      "  County_State                    __time       cases  device_count  \\\n",
      "0     Cass, ND 2020-05-03 00:00:00+00:00  128.655580          2578   \n",
      "1     Cass, ND 2020-04-28 00:00:00+00:00  100.372620          2715   \n",
      "2     Cass, ND 2020-04-29 00:00:00+00:00  104.625694          2654   \n",
      "3     Cass, ND 2020-05-02 00:00:00+00:00  121.638000          2756   \n",
      "4     Cass, ND 2020-04-30 00:00:00+00:00  109.091420          2592   \n",
      "\n",
      "   max_temperature  \n",
      "0            286.1  \n",
      "1            290.1  \n",
      "2            288.0  \n",
      "3            294.6  \n",
      "4            291.2  \n"
     ]
    }
   ],
   "source": [
    "# using where builder\n",
    "print('where builder return:',db.where_builder(['\"total_pop\" > 10000','\"cases\" > 100']))\n",
    "print()\n",
    "print(db.query_any_condition(db.where_builder(['\"total_pop\" > 10000','\"cases\" > 100']),\n",
    "                             variables= \"County_State, __time, cases, device_count, max_temperature\",\n",
    "                             limit = 5))"
   ]
  },
  {
   "cell_type": "markdown",
   "metadata": {},
   "source": [
    "## Build an advanced query manually\n",
    "\n",
    "There is also support to build an advanced query manually, but it requires more knowledge of SQL and if you have that then it will most likely easier to just build the entire query statement yourself\n",
    "\n",
    "**truncate_time** \n",
    "\n",
    "Really helpful function if you want to easily remove the large number of zeros in '__time'"
   ]
  },
  {
   "cell_type": "code",
   "execution_count": 18,
   "metadata": {},
   "outputs": [
    {
     "name": "stdout",
     "output_type": "stream",
     "text": [
      "Status Code: 200  (200 is what you want)\n",
      "  County_State                    __time      cases    deaths\n",
      "0    Lucas, OH 2020-06-10 00:00:00+00:00   0.000000  0.000000\n",
      "1    Lucas, OH 2020-06-10 00:00:00+00:00  18.743736  2.117493\n",
      "2    Lucas, OH 2020-06-10 00:00:00+00:00   1.896983  0.214304\n",
      "3    Lucas, OH 2020-06-10 00:00:00+00:00   1.737063  0.196237\n",
      "4    Lucas, OH 2020-06-10 00:00:00+00:00   1.273846  0.143907\n",
      "\n",
      "  County_State      __time      cases    deaths\n",
      "0    Lucas, OH  2020-06-10   0.000000  0.000000\n",
      "1    Lucas, OH  2020-06-10  18.743736  2.117493\n",
      "2    Lucas, OH  2020-06-10   1.896983  0.214304\n",
      "3    Lucas, OH  2020-06-10   1.737063  0.196237\n",
      "4    Lucas, OH  2020-06-10   1.273846  0.143907\n"
     ]
    }
   ],
   "source": [
    "sql = db.build_sql_query([\"County_State, __time, cases, deaths\",\n",
    "                    '''__time >= TIMESTAMP '2020-06-10' AND __time < TIMESTAMP '2020-06-17' AND County_State = 'Lucas, OH' ''',\n",
    "                    \"ALL\"])\n",
    "df = db.query_default(sql)\n",
    "print(df.head(5))\n",
    "print()\n",
    "# truncate time to not be so ugly (keeps only the date, removes time)\n",
    "df = db.truncate_time(df)\n",
    "print(df.head(5))"
   ]
  },
  {
   "cell_type": "markdown",
   "metadata": {},
   "source": [
    "## Using SQL functions in a query \n",
    "\n",
    "The below code is only an example of how to use a function in an SQL query"
   ]
  },
  {
   "cell_type": "code",
   "execution_count": 19,
   "metadata": {},
   "outputs": [
    {
     "name": "stdout",
     "output_type": "stream",
     "text": [
      "Status Code: 200  (200 is what you want)\n",
      "  County_State      __time  AVG cases  AVG deaths\n",
      "0    Lucas, OH  2020-06-10   6.005025    0.678392\n",
      "1    Lucas, OH  2020-06-11   6.015075    0.683417\n",
      "2    Lucas, OH  2020-06-12   6.057789    0.683417\n",
      "3    Lucas, OH  2020-06-13   6.077889    0.703518\n",
      "4    Lucas, OH  2020-06-14   6.100503    0.703518\n",
      "5    Lucas, OH  2020-06-15   6.173367    0.708543\n",
      "6    Lucas, OH  2020-06-16   6.180904    0.718593\n"
     ]
    }
   ],
   "source": [
    "# SQL query to average the cases and deaths on a given date range\n",
    "sql2 = db.build_sql_query([\"\"\"County_State, __time, AVG(cases) as \"AVG cases\", AVG(deaths) as \"AVG deaths\" \"\"\",\n",
    "                    '''__time >= TIMESTAMP '2020-06-10' AND __time < TIMESTAMP '2020-06-17' AND County_State = 'Lucas, OH' \n",
    "                    GROUP BY 1,2''', # GROUP BY gets introduced because we are using functions in selection\n",
    "                    \"ALL\"])\n",
    "df2 = db.query_default(sql2)\n",
    "# truncate time\n",
    "df2 = db.truncate_time(df2)\n",
    "print(df2.head(10))"
   ]
  },
  {
   "cell_type": "markdown",
   "metadata": {},
   "source": [
    "## Using SQL concatenate to combine columns\n",
    "\n",
    "In this example we combine the latitude and longitude into 1 column called 'lat, long' (we call it that by referring to it with 'as' in the query)"
   ]
  },
  {
   "cell_type": "code",
   "execution_count": 20,
   "metadata": {},
   "outputs": [
    {
     "name": "stdout",
     "output_type": "stream",
     "text": [
      "Status Code: 200  (200 is what you want)\n",
      "   County_State      __time      cases    deaths  total_pop  \\\n",
      "0     Lucas, OH  2020-06-10   0.000000  0.000000          0   \n",
      "1     Lucas, OH  2020-06-10  18.743736  2.117493       3399   \n",
      "2     Lucas, OH  2020-06-10   1.896983  0.214304        344   \n",
      "3     Lucas, OH  2020-06-10   1.737063  0.196237        315   \n",
      "4     Lucas, OH  2020-06-10   1.273846  0.143907        231   \n",
      "5     Lucas, OH  2020-06-10   2.007273  0.226763        364   \n",
      "6     Lucas, OH  2020-06-10   4.384016  0.495265        795   \n",
      "7     Lucas, OH  2020-06-10   1.731548  0.195614        314   \n",
      "8     Lucas, OH  2020-06-10   1.224216  0.138301        222   \n",
      "9     Lucas, OH  2020-06-10   4.742457  0.535759        860   \n",
      "10    Lucas, OH  2020-06-10   1.450310  0.163843        263   \n",
      "11    Lucas, OH  2020-06-10   2.238881  0.252928        406   \n",
      "12    Lucas, OH  2020-06-10   3.303177  0.373162        599   \n",
      "13    Lucas, OH  2020-06-10   2.360200  0.266633        428   \n",
      "14    Lucas, OH  2020-06-10   3.374865  0.381261        612   \n",
      "\n",
      "    origin_census_block_group                               lat, long  \n",
      "0                390959900000  41.824615478515625, -83.16375732421875  \n",
      "1                390950104001   41.65803146362305, -83.61504364013672  \n",
      "2                390950007001   41.69049072265625, -83.58708953857422  \n",
      "3                390950042003    41.63237762451172, -83.5613021850586  \n",
      "4                390950047014  41.653831481933594, -83.51837158203125  \n",
      "5                390950060002   41.69600296020508, -83.62062072753906  \n",
      "6                390950022001  41.666202545166016, -83.54432678222656  \n",
      "7                390950054002    41.62773895263672, -83.5555191040039  \n",
      "8                390950054004    41.62994384765625, -83.5511245727539  \n",
      "9                390950024014    41.658443450927734, -83.606201171875  \n",
      "10               390950031001   41.65106964111328, -83.59322357177734  \n",
      "11               390950025001   41.66084289550781, -83.57697296142578  \n",
      "12               390950036002    41.64301300048828, -83.5624771118164  \n",
      "13               390950014002  41.665985107421875, -83.57836151123047  \n",
      "14               390950051001   41.63837432861328, -83.52694702148438  \n"
     ]
    }
   ],
   "source": [
    "# SQL query to get the more regional data \n",
    "sql3 = db.build_sql_query([\"\"\"County_State, __time, cases, deaths, total_pop,origin_census_block_group,CONCAT(lat,', ',lng) as \"lat, long\" \"\"\",\n",
    "                    '''__time >= TIMESTAMP '2020-06-10' AND __time < TIMESTAMP '2020-06-17' AND County_State = 'Lucas, OH' ''',\n",
    "                    \"ALL\"])\n",
    "df3 = db.query_default(sql3)\n",
    "df3 = db.truncate_time(df3)\n",
    "print(df3.head(15))"
   ]
  },
  {
   "cell_type": "markdown",
   "metadata": {},
   "source": [
    "\n",
    "\n",
    "Sorry for some of the really long tables at the start, it's my first creating my own notebook, so I don't know all the formatting tricks.\n",
    "\n",
    "I hope this code helps some people. It's worth to note that this code was written on Windows 10, so I can't ensure it will operate as intended on other operating system. I tried to keep unfolded_sql_helper well documented (maybe too much), hopefully enough to let you understand what is being done behind the scenes."
   ]
  },
  {
   "cell_type": "code",
   "execution_count": null,
   "metadata": {},
   "outputs": [],
   "source": []
  }
 ],
 "metadata": {
  "kernelspec": {
   "display_name": "Python 3",
   "language": "python",
   "name": "python3"
  },
  "language_info": {
   "codemirror_mode": {
    "name": "ipython",
    "version": 3
   },
   "file_extension": ".py",
   "mimetype": "text/x-python",
   "name": "python",
   "nbconvert_exporter": "python",
   "pygments_lexer": "ipython3",
   "version": "3.7.6"
  }
 },
 "nbformat": 4,
 "nbformat_minor": 4
}
